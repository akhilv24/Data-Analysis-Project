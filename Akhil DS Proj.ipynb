{
 "cells": [
  {
   "cell_type": "markdown",
   "id": "279dbac7-1679-480b-8cd6-9dbef0625ae8",
   "metadata": {},
   "source": [
    "# LEVEL 1"
   ]
  },
  {
   "cell_type": "markdown",
   "id": "938ebb66-357b-41f3-af30-8b0824077af7",
   "metadata": {},
   "source": [
    "# Task 1 [Data Exploring and PreProcessing]"
   ]
  },
  {
   "cell_type": "code",
   "execution_count": 32,
   "id": "cd36648d-f199-410c-8dda-de4067c99bc0",
   "metadata": {},
   "outputs": [],
   "source": [
    "import pandas as pd\n",
    "import matplotlib.pyplot as plt"
   ]
  },
  {
   "cell_type": "code",
   "execution_count": 33,
   "id": "29a273cc-4fad-41eb-8506-f23b0cc4edfc",
   "metadata": {},
   "outputs": [
    {
     "name": "stdout",
     "output_type": "stream",
     "text": [
      "Requirement already satisfied: seaborn in c:\\users\\akhil\\appdata\\roaming\\python\\python312\\site-packages (0.13.2)\n",
      "Requirement already satisfied: numpy!=1.24.0,>=1.20 in c:\\users\\akhil\\appdata\\roaming\\python\\python312\\site-packages (from seaborn) (2.0.1)\n",
      "Requirement already satisfied: pandas>=1.2 in c:\\users\\akhil\\appdata\\roaming\\python\\python312\\site-packages (from seaborn) (2.2.3)\n",
      "Requirement already satisfied: matplotlib!=3.6.1,>=3.4 in c:\\users\\akhil\\appdata\\roaming\\python\\python312\\site-packages (from seaborn) (3.9.2)\n",
      "Requirement already satisfied: contourpy>=1.0.1 in c:\\users\\akhil\\appdata\\roaming\\python\\python312\\site-packages (from matplotlib!=3.6.1,>=3.4->seaborn) (1.2.1)\n",
      "Requirement already satisfied: cycler>=0.10 in c:\\users\\akhil\\appdata\\roaming\\python\\python312\\site-packages (from matplotlib!=3.6.1,>=3.4->seaborn) (0.12.1)\n",
      "Requirement already satisfied: fonttools>=4.22.0 in c:\\users\\akhil\\appdata\\roaming\\python\\python312\\site-packages (from matplotlib!=3.6.1,>=3.4->seaborn) (4.53.1)\n",
      "Requirement already satisfied: kiwisolver>=1.3.1 in c:\\users\\akhil\\appdata\\roaming\\python\\python312\\site-packages (from matplotlib!=3.6.1,>=3.4->seaborn) (1.4.5)\n",
      "Requirement already satisfied: packaging>=20.0 in c:\\users\\akhil\\appdata\\roaming\\python\\python312\\site-packages (from matplotlib!=3.6.1,>=3.4->seaborn) (24.1)\n",
      "Requirement already satisfied: pillow>=8 in c:\\users\\akhil\\appdata\\roaming\\python\\python312\\site-packages (from matplotlib!=3.6.1,>=3.4->seaborn) (10.4.0)\n",
      "Requirement already satisfied: pyparsing>=2.3.1 in c:\\users\\akhil\\appdata\\roaming\\python\\python312\\site-packages (from matplotlib!=3.6.1,>=3.4->seaborn) (3.1.2)\n",
      "Requirement already satisfied: python-dateutil>=2.7 in c:\\users\\akhil\\appdata\\roaming\\python\\python312\\site-packages (from matplotlib!=3.6.1,>=3.4->seaborn) (2.9.0.post0)\n",
      "Requirement already satisfied: pytz>=2020.1 in c:\\users\\akhil\\appdata\\roaming\\python\\python312\\site-packages (from pandas>=1.2->seaborn) (2025.1)\n",
      "Requirement already satisfied: tzdata>=2022.7 in c:\\users\\akhil\\appdata\\roaming\\python\\python312\\site-packages (from pandas>=1.2->seaborn) (2025.1)\n",
      "Requirement already satisfied: six>=1.5 in c:\\users\\akhil\\appdata\\roaming\\python\\python312\\site-packages (from python-dateutil>=2.7->matplotlib!=3.6.1,>=3.4->seaborn) (1.16.0)\n",
      "Note: you may need to restart the kernel to use updated packages.\n"
     ]
    },
    {
     "name": "stderr",
     "output_type": "stream",
     "text": [
      "\n",
      "[notice] A new release of pip is available: 24.3.1 -> 25.0.1\n",
      "[notice] To update, run: C:\\Users\\Akhil\\anaconda3\\python.exe -m pip install --upgrade pip\n"
     ]
    }
   ],
   "source": [
    "pip install seaborn"
   ]
  },
  {
   "cell_type": "code",
   "execution_count": 34,
   "id": "d99540bc-a1f2-4eed-a270-5cb59014a635",
   "metadata": {},
   "outputs": [],
   "source": [
    "import seaborn as sns"
   ]
  },
  {
   "cell_type": "code",
   "execution_count": 35,
   "id": "76e48f9b-2fc0-486a-8209-8550af69f6a7",
   "metadata": {},
   "outputs": [],
   "source": [
    "df = pd.read_csv(\"Dataset24.csv\")"
   ]
  },
  {
   "cell_type": "code",
   "execution_count": 36,
   "id": "1931c4e6-2179-4df3-909d-0d56ecaca2bf",
   "metadata": {},
   "outputs": [
    {
     "name": "stdout",
     "output_type": "stream",
     "text": [
      "Dataset Shape: (9551, 21)\n"
     ]
    }
   ],
   "source": [
    "print(\"Dataset Shape:\", df.shape)"
   ]
  },
  {
   "cell_type": "code",
   "execution_count": 37,
   "id": "f1ed6bb4-9a0d-4592-a791-adb2001e0098",
   "metadata": {},
   "outputs": [
    {
     "name": "stdout",
     "output_type": "stream",
     "text": [
      "\n",
      "Column Data Types:\n"
     ]
    }
   ],
   "source": [
    "print(\"\\nColumn Data Types:\")"
   ]
  },
  {
   "cell_type": "code",
   "execution_count": 38,
   "id": "d2799f6b-9e89-4fa5-b06c-510a3d6dbaa2",
   "metadata": {},
   "outputs": [
    {
     "data": {
      "text/plain": [
       "Restaurant ID             int64\n",
       "Restaurant Name          object\n",
       "Country Code              int64\n",
       "City                     object\n",
       "Address                  object\n",
       "Locality                 object\n",
       "Locality Verbose         object\n",
       "Longitude               float64\n",
       "Latitude                float64\n",
       "Cuisines                 object\n",
       "Average Cost for two      int64\n",
       "Currency                 object\n",
       "Has Table booking        object\n",
       "Has Online delivery      object\n",
       "Is delivering now        object\n",
       "Switch to order menu     object\n",
       "Price range               int64\n",
       "Aggregate rating        float64\n",
       "Rating color             object\n",
       "Rating text              object\n",
       "Votes                     int64\n",
       "dtype: object"
      ]
     },
     "execution_count": 38,
     "metadata": {},
     "output_type": "execute_result"
    }
   ],
   "source": [
    "df.dtypes"
   ]
  },
  {
   "cell_type": "code",
   "execution_count": 39,
   "id": "2e5796d6-ea36-4b2f-bfdd-a3b6ee9a5292",
   "metadata": {},
   "outputs": [
    {
     "name": "stdout",
     "output_type": "stream",
     "text": [
      "\n",
      "Missing Values:\n",
      "Restaurant ID           0\n",
      "Restaurant Name         0\n",
      "Country Code            0\n",
      "City                    0\n",
      "Address                 0\n",
      "Locality                0\n",
      "Locality Verbose        0\n",
      "Longitude               0\n",
      "Latitude                0\n",
      "Cuisines                9\n",
      "Average Cost for two    0\n",
      "Currency                0\n",
      "Has Table booking       0\n",
      "Has Online delivery     0\n",
      "Is delivering now       0\n",
      "Switch to order menu    0\n",
      "Price range             0\n",
      "Aggregate rating        0\n",
      "Rating color            0\n",
      "Rating text             0\n",
      "Votes                   0\n",
      "dtype: int64\n"
     ]
    }
   ],
   "source": [
    "print(\"\\nMissing Values:\")\n",
    "print(df.isnull().sum())"
   ]
  },
  {
   "cell_type": "code",
   "execution_count": 40,
   "id": "360b5e9b-ff7c-48de-bcfb-046ce704baed",
   "metadata": {},
   "outputs": [],
   "source": [
    "df['Cuisines'] = df['Cuisines'].fillna('Unknown')"
   ]
  },
  {
   "cell_type": "code",
   "execution_count": 41,
   "id": "671e3d91-3e67-49da-8fb7-47519ee1a25c",
   "metadata": {},
   "outputs": [
    {
     "data": {
      "image/png": "[encoded data removed]",
      "text/plain": [
       "<Figure size 1000x500 with 1 Axes>"
      ]
     },
     "metadata": {},
     "output_type": "display_data"
    }
   ],
   "source": [
    "plt.figure(figsize=(10,5))\n",
    "sns.histplot(df[\"Aggregate rating\"], bins=20, kde=True, color='blue')\n",
    "plt.xlabel(\"Aggregate Rating\") \n",
    "plt.ylabel(\"Frequency\") \n",
    "plt.title(\"Distribution of Aggregate Ratings\") \n",
    "plt.show()"
   ]
  },
  {
   "cell_type": "code",
   "execution_count": 42,
   "id": "b426189a-c07e-49b1-a561-98774085f979",
   "metadata": {},
   "outputs": [
    {
     "name": "stderr",
     "output_type": "stream",
     "text": [
      "C:\\Users\\Akhil\\AppData\\Local\\Temp\\ipykernel_6516\\3197364627.py:2: FutureWarning: \n",
      "\n",
      "Passing `palette` without assigning `hue` is deprecated and will be removed in v0.14.0. Assign the `x` variable to `hue` and set `legend=False` for the same effect.\n",
      "\n",
      "  sns.countplot(x=\"Aggregate rating\", data=df, palette=\"coolwarm\", order=sorted(df[\"Aggregate rating\"].unique()))\n"
     ]
    },
    {
     "data": {
      "image/png": "[encoded data removed]",
      "text/plain": [
       "<Figure size 1000x500 with 1 Axes>"
      ]
     },
     "metadata": {},
     "output_type": "display_data"
    }
   ],
   "source": [
    "plt.figure(figsize=(10,5))\n",
    "sns.countplot(x=\"Aggregate rating\", data=df, palette=\"coolwarm\", order=sorted(df[\"Aggregate rating\"].unique()))\n",
    "plt.xlabel(\"Aggregate Rating\") \n",
    "plt.ylabel(\"Count\")  \n",
    "plt.title(\"Aggregate Rating Counts\") \n",
    "plt.xticks(rotation=45)\n",
    "plt.show() "
   ]
  },
  {
   "cell_type": "markdown",
   "id": "3c691183-c02f-403d-b9f2-8f8b727362f8",
   "metadata": {},
   "source": [
    "# Task 2 [Descriptive Analysis]"
   ]
  },
  {
   "cell_type": "code",
   "execution_count": 43,
   "id": "b2b562e9-92bd-430e-b187-605eb8b3f704",
   "metadata": {},
   "outputs": [],
   "source": [
    "import pandas as pd\n",
    "import matplotlib.pyplot as plt\n",
    "import seaborn as sns"
   ]
  },
  {
   "cell_type": "code",
   "execution_count": 44,
   "id": "a28aefa9-9516-4643-ad2a-bc467cf97b8b",
   "metadata": {},
   "outputs": [],
   "source": [
    "df=pd.read_csv(\"Dataset24.csv\")"
   ]
  },
  {
   "cell_type": "code",
   "execution_count": 45,
   "id": "a4859bec-b88d-4849-9169-155200eb59fb",
   "metadata": {},
   "outputs": [
    {
     "data": {
      "text/html": [
       "<div>\n",
       "<style scoped>\n",
       "    .dataframe tbody tr th:only-of-type {\n",
       "        vertical-align: middle;\n",
       "    }\n",
       "\n",
       "    .dataframe tbody tr th {\n",
       "        vertical-align: top;\n",
       "    }\n",
       "\n",
       "    .dataframe thead th {\n",
       "        text-align: right;\n",
       "    }\n",
       "</style>\n",
       "<table border=\"1\" class=\"dataframe\">\n",
       "  <thead>\n",
       "    <tr style=\"text-align: right;\">\n",
       "      <th></th>\n",
       "      <th>Restaurant ID</th>\n",
       "      <th>Restaurant Name</th>\n",
       "      <th>Country Code</th>\n",
       "      <th>City</th>\n",
       "      <th>Address</th>\n",
       "      <th>Locality</th>\n",
       "      <th>Locality Verbose</th>\n",
       "      <th>Longitude</th>\n",
       "      <th>Latitude</th>\n",
       "      <th>Cuisines</th>\n",
       "      <th>...</th>\n",
       "      <th>Currency</th>\n",
       "      <th>Has Table booking</th>\n",
       "      <th>Has Online delivery</th>\n",
       "      <th>Is delivering now</th>\n",
       "      <th>Switch to order menu</th>\n",
       "      <th>Price range</th>\n",
       "      <th>Aggregate rating</th>\n",
       "      <th>Rating color</th>\n",
       "      <th>Rating text</th>\n",
       "      <th>Votes</th>\n",
       "    </tr>\n",
       "  </thead>\n",
       "  <tbody>\n",
       "    <tr>\n",
       "      <th>0</th>\n",
       "      <td>6317637</td>\n",
       "      <td>Le Petit Souffle</td>\n",
       "      <td>162</td>\n",
       "      <td>Makati City</td>\n",
       "      <td>Third Floor, Century City Mall, Kalayaan Avenu...</td>\n",
       "      <td>Century City Mall, Poblacion, Makati City</td>\n",
       "      <td>Century City Mall, Poblacion, Makati City, Mak...</td>\n",
       "      <td>121.027535</td>\n",
       "      <td>14.565443</td>\n",
       "      <td>French, Japanese, Desserts</td>\n",
       "      <td>...</td>\n",
       "      <td>Botswana Pula(P)</td>\n",
       "      <td>Yes</td>\n",
       "      <td>No</td>\n",
       "      <td>No</td>\n",
       "      <td>No</td>\n",
       "      <td>3</td>\n",
       "      <td>4.8</td>\n",
       "      <td>Dark Green</td>\n",
       "      <td>Excellent</td>\n",
       "      <td>314</td>\n",
       "    </tr>\n",
       "    <tr>\n",
       "      <th>1</th>\n",
       "      <td>6304287</td>\n",
       "      <td>Izakaya Kikufuji</td>\n",
       "      <td>162</td>\n",
       "      <td>Makati City</td>\n",
       "      <td>Little Tokyo, 2277 Chino Roces Avenue, Legaspi...</td>\n",
       "      <td>Little Tokyo, Legaspi Village, Makati City</td>\n",
       "      <td>Little Tokyo, Legaspi Village, Makati City, Ma...</td>\n",
       "      <td>121.014101</td>\n",
       "      <td>14.553708</td>\n",
       "      <td>Japanese</td>\n",
       "      <td>...</td>\n",
       "      <td>Botswana Pula(P)</td>\n",
       "      <td>Yes</td>\n",
       "      <td>No</td>\n",
       "      <td>No</td>\n",
       "      <td>No</td>\n",
       "      <td>3</td>\n",
       "      <td>4.5</td>\n",
       "      <td>Dark Green</td>\n",
       "      <td>Excellent</td>\n",
       "      <td>591</td>\n",
       "    </tr>\n",
       "    <tr>\n",
       "      <th>2</th>\n",
       "      <td>6300002</td>\n",
       "      <td>Heat - Edsa Shangri-La</td>\n",
       "      <td>162</td>\n",
       "      <td>Mandaluyong City</td>\n",
       "      <td>Edsa Shangri-La, 1 Garden Way, Ortigas, Mandal...</td>\n",
       "      <td>Edsa Shangri-La, Ortigas, Mandaluyong City</td>\n",
       "      <td>Edsa Shangri-La, Ortigas, Mandaluyong City, Ma...</td>\n",
       "      <td>121.056831</td>\n",
       "      <td>14.581404</td>\n",
       "      <td>Seafood, Asian, Filipino, Indian</td>\n",
       "      <td>...</td>\n",
       "      <td>Botswana Pula(P)</td>\n",
       "      <td>Yes</td>\n",
       "      <td>No</td>\n",
       "      <td>No</td>\n",
       "      <td>No</td>\n",
       "      <td>4</td>\n",
       "      <td>4.4</td>\n",
       "      <td>Green</td>\n",
       "      <td>Very Good</td>\n",
       "      <td>270</td>\n",
       "    </tr>\n",
       "    <tr>\n",
       "      <th>3</th>\n",
       "      <td>6318506</td>\n",
       "      <td>Ooma</td>\n",
       "      <td>162</td>\n",
       "      <td>Mandaluyong City</td>\n",
       "      <td>Third Floor, Mega Fashion Hall, SM Megamall, O...</td>\n",
       "      <td>SM Megamall, Ortigas, Mandaluyong City</td>\n",
       "      <td>SM Megamall, Ortigas, Mandaluyong City, Mandal...</td>\n",
       "      <td>121.056475</td>\n",
       "      <td>14.585318</td>\n",
       "      <td>Japanese, Sushi</td>\n",
       "      <td>...</td>\n",
       "      <td>Botswana Pula(P)</td>\n",
       "      <td>No</td>\n",
       "      <td>No</td>\n",
       "      <td>No</td>\n",
       "      <td>No</td>\n",
       "      <td>4</td>\n",
       "      <td>4.9</td>\n",
       "      <td>Dark Green</td>\n",
       "      <td>Excellent</td>\n",
       "      <td>365</td>\n",
       "    </tr>\n",
       "    <tr>\n",
       "      <th>4</th>\n",
       "      <td>6314302</td>\n",
       "      <td>Sambo Kojin</td>\n",
       "      <td>162</td>\n",
       "      <td>Mandaluyong City</td>\n",
       "      <td>Third Floor, Mega Atrium, SM Megamall, Ortigas...</td>\n",
       "      <td>SM Megamall, Ortigas, Mandaluyong City</td>\n",
       "      <td>SM Megamall, Ortigas, Mandaluyong City, Mandal...</td>\n",
       "      <td>121.057508</td>\n",
       "      <td>14.584450</td>\n",
       "      <td>Japanese, Korean</td>\n",
       "      <td>...</td>\n",
       "      <td>Botswana Pula(P)</td>\n",
       "      <td>Yes</td>\n",
       "      <td>No</td>\n",
       "      <td>No</td>\n",
       "      <td>No</td>\n",
       "      <td>4</td>\n",
       "      <td>4.8</td>\n",
       "      <td>Dark Green</td>\n",
       "      <td>Excellent</td>\n",
       "      <td>229</td>\n",
       "    </tr>\n",
       "  </tbody>\n",
       "</table>\n",
       "<p>5 rows × 21 columns</p>\n",
       "</div>"
      ],
      "text/plain": [
       "   Restaurant ID         Restaurant Name  Country Code              City  \\\n",
       "0        6317637        Le Petit Souffle           162       Makati City   \n",
       "1        6304287        Izakaya Kikufuji           162       Makati City   \n",
       "2        6300002  Heat - Edsa Shangri-La           162  Mandaluyong City   \n",
       "3        6318506                    Ooma           162  Mandaluyong City   \n",
       "4        6314302             Sambo Kojin           162  Mandaluyong City   \n",
       "\n",
       "                                             Address  \\\n",
       "0  Third Floor, Century City Mall, Kalayaan Avenu...   \n",
       "1  Little Tokyo, 2277 Chino Roces Avenue, Legaspi...   \n",
       "2  Edsa Shangri-La, 1 Garden Way, Ortigas, Mandal...   \n",
       "3  Third Floor, Mega Fashion Hall, SM Megamall, O...   \n",
       "4  Third Floor, Mega Atrium, SM Megamall, Ortigas...   \n",
       "\n",
       "                                     Locality  \\\n",
       "0   Century City Mall, Poblacion, Makati City   \n",
       "1  Little Tokyo, Legaspi Village, Makati City   \n",
       "2  Edsa Shangri-La, Ortigas, Mandaluyong City   \n",
       "3      SM Megamall, Ortigas, Mandaluyong City   \n",
       "4      SM Megamall, Ortigas, Mandaluyong City   \n",
       "\n",
       "                                    Locality Verbose   Longitude   Latitude  \\\n",
       "0  Century City Mall, Poblacion, Makati City, Mak...  121.027535  14.565443   \n",
       "1  Little Tokyo, Legaspi Village, Makati City, Ma...  121.014101  14.553708   \n",
       "2  Edsa Shangri-La, Ortigas, Mandaluyong City, Ma...  121.056831  14.581404   \n",
       "3  SM Megamall, Ortigas, Mandaluyong City, Mandal...  121.056475  14.585318   \n",
       "4  SM Megamall, Ortigas, Mandaluyong City, Mandal...  121.057508  14.584450   \n",
       "\n",
       "                           Cuisines  ...          Currency Has Table booking  \\\n",
       "0        French, Japanese, Desserts  ...  Botswana Pula(P)               Yes   \n",
       "1                          Japanese  ...  Botswana Pula(P)               Yes   \n",
       "2  Seafood, Asian, Filipino, Indian  ...  Botswana Pula(P)               Yes   \n",
       "3                   Japanese, Sushi  ...  Botswana Pula(P)                No   \n",
       "4                  Japanese, Korean  ...  Botswana Pula(P)               Yes   \n",
       "\n",
       "  Has Online delivery Is delivering now Switch to order menu Price range  \\\n",
       "0                  No                No                   No           3   \n",
       "1                  No                No                   No           3   \n",
       "2                  No                No                   No           4   \n",
       "3                  No                No                   No           4   \n",
       "4                  No                No                   No           4   \n",
       "\n",
       "   Aggregate rating  Rating color Rating text Votes  \n",
       "0               4.8    Dark Green   Excellent   314  \n",
       "1               4.5    Dark Green   Excellent   591  \n",
       "2               4.4         Green   Very Good   270  \n",
       "3               4.9    Dark Green   Excellent   365  \n",
       "4               4.8    Dark Green   Excellent   229  \n",
       "\n",
       "[5 rows x 21 columns]"
      ]
     },
     "execution_count": 45,
     "metadata": {},
     "output_type": "execute_result"
    }
   ],
   "source": [
    "df.head()"
   ]
  },
  {
   "cell_type": "code",
   "execution_count": 46,
   "id": "f77f0b29-a61c-45e5-856e-bf309999f00f",
   "metadata": {},
   "outputs": [
    {
     "name": "stdout",
     "output_type": "stream",
     "text": [
      "Dataset Shape: (9551, 21)\n",
      "\n",
      "Column Data Types:\n"
     ]
    }
   ],
   "source": [
    "print(\"Dataset Shape:\", df.shape)\n",
    "print(\"\\nColumn Data Types:\")"
   ]
  },
  {
   "cell_type": "code",
   "execution_count": 50,
   "id": "a99d25c9-fa7a-4841-8939-f31b8689ad2d",
   "metadata": {},
   "outputs": [
    {
     "name": "stdout",
     "output_type": "stream",
     "text": [
      "<class 'pandas.core.frame.DataFrame'>\n",
      "RangeIndex: 9551 entries, 0 to 9550\n",
      "Data columns (total 21 columns):\n",
      " #   Column                Non-Null Count  Dtype  \n",
      "---  ------                --------------  -----  \n",
      " 0   Restaurant ID         9551 non-null   int64  \n",
      " 1   Restaurant Name       9551 non-null   object \n",
      " 2   Country Code          9551 non-null   int64  \n",
      " 3   City                  9551 non-null   object \n",
      " 4   Address               9551 non-null   object \n",
      " 5   Locality              9551 non-null   object \n",
      " 6   Locality Verbose      9551 non-null   object \n",
      " 7   Longitude             9551 non-null   float64\n",
      " 8   Latitude              9551 non-null   float64\n",
      " 9   Cuisines              9542 non-null   object \n",
      " 10  Average Cost for two  9551 non-null   int64  \n",
      " 11  Currency              9551 non-null   object \n",
      " 12  Has Table booking     9551 non-null   object \n",
      " 13  Has Online delivery   9551 non-null   object \n",
      " 14  Is delivering now     9551 non-null   object \n",
      " 15  Switch to order menu  9551 non-null   object \n",
      " 16  Price range           9551 non-null   int64  \n",
      " 17  Aggregate rating      9551 non-null   float64\n",
      " 18  Rating color          9551 non-null   object \n",
      " 19  Rating text           9551 non-null   object \n",
      " 20  Votes                 9551 non-null   int64  \n",
      "dtypes: float64(3), int64(5), object(13)\n",
      "memory usage: 1.5+ MB\n"
     ]
    }
   ],
   "source": [
    "df.info()"
   ]
  },
  {
   "cell_type": "code",
   "execution_count": 51,
   "id": "0662d838-2947-4bfd-9dc5-91e5320b8bd2",
   "metadata": {},
   "outputs": [
    {
     "name": "stdout",
     "output_type": "stream",
     "text": [
      "\n",
      "Missing Values:\n",
      "Restaurant ID           0\n",
      "Restaurant Name         0\n",
      "Country Code            0\n",
      "City                    0\n",
      "Address                 0\n",
      "Locality                0\n",
      "Locality Verbose        0\n",
      "Longitude               0\n",
      "Latitude                0\n",
      "Cuisines                9\n",
      "Average Cost for two    0\n",
      "Currency                0\n",
      "Has Table booking       0\n",
      "Has Online delivery     0\n",
      "Is delivering now       0\n",
      "Switch to order menu    0\n",
      "Price range             0\n",
      "Aggregate rating        0\n",
      "Rating color            0\n",
      "Rating text             0\n",
      "Votes                   0\n",
      "dtype: int64\n"
     ]
    }
   ],
   "source": [
    "print(\"\\nMissing Values:\")\n",
    "print(df.isnull().sum())  "
   ]
  },
  {
   "cell_type": "code",
   "execution_count": 53,
   "id": "d6ee87e2-91d5-4aac-952b-95162f9eb3f0",
   "metadata": {},
   "outputs": [],
   "source": [
    "df['Cuisines'] = df['Cuisines'].fillna('Unknown')"
   ]
  },
  {
   "cell_type": "code",
   "execution_count": 54,
   "id": "23825587-1d38-441a-8320-9b6368a6966d",
   "metadata": {},
   "outputs": [
    {
     "name": "stdout",
     "output_type": "stream",
     "text": [
      "\n",
      "Descriptive Statistics for Numerical Columns:\n",
      "       Restaurant ID  Country Code    Longitude     Latitude  \\\n",
      "count   9.551000e+03   9551.000000  9551.000000  9551.000000   \n",
      "mean    9.051128e+06     18.365616    64.126574    25.854381   \n",
      "std     8.791521e+06     56.750546    41.467058    11.007935   \n",
      "min     5.300000e+01      1.000000  -157.948486   -41.330428   \n",
      "25%     3.019625e+05      1.000000    77.081343    28.478713   \n",
      "50%     6.004089e+06      1.000000    77.191964    28.570469   \n",
      "75%     1.835229e+07      1.000000    77.282006    28.642758   \n",
      "max     1.850065e+07    216.000000   174.832089    55.976980   \n",
      "\n",
      "       Average Cost for two  Price range  Aggregate rating         Votes  \n",
      "count           9551.000000  9551.000000       9551.000000   9551.000000  \n",
      "mean            1199.210763     1.804837          2.666370    156.909748  \n",
      "std            16121.183073     0.905609          1.516378    430.169145  \n",
      "min                0.000000     1.000000          0.000000      0.000000  \n",
      "25%              250.000000     1.000000          2.500000      5.000000  \n",
      "50%              400.000000     2.000000          3.200000     31.000000  \n",
      "75%              700.000000     2.000000          3.700000    131.000000  \n",
      "max           800000.000000     4.000000          4.900000  10934.000000  \n"
     ]
    }
   ],
   "source": [
    "print(\"\\nDescriptive Statistics for Numerical Columns:\")\n",
    "print(df.describe())"
   ]
  },
  {
   "cell_type": "code",
   "execution_count": 55,
   "id": "0e7db047-c7b3-4570-a388-7f1fdaa7fcf5",
   "metadata": {},
   "outputs": [
    {
     "name": "stdout",
     "output_type": "stream",
     "text": [
      "\n",
      "Unique Country Codes:\n",
      "Country Code\n",
      "1      8652\n",
      "216     434\n",
      "215      80\n",
      "30       60\n",
      "189      60\n",
      "214      60\n",
      "148      40\n",
      "208      34\n",
      "14       24\n",
      "162      22\n",
      "94       21\n",
      "166      20\n",
      "184      20\n",
      "191      20\n",
      "37        4\n",
      "Name: count, dtype: int64\n"
     ]
    }
   ],
   "source": [
    "print(\"\\nUnique Country Codes:\")\n",
    "print(df[\"Country Code\"].value_counts())"
   ]
  },
  {
   "cell_type": "code",
   "execution_count": 56,
   "id": "e54e43e0-4ab3-4841-ab01-469a2f55cf95",
   "metadata": {},
   "outputs": [
    {
     "name": "stdout",
     "output_type": "stream",
     "text": [
      "\n",
      "Top Cities with the Most Restaurants:\n",
      "City\n",
      "New Delhi       5473\n",
      "Gurgaon         1118\n",
      "Noida           1080\n",
      "Faridabad        251\n",
      "Ghaziabad         25\n",
      "Bhubaneshwar      21\n",
      "Lucknow           21\n",
      "Ahmedabad         21\n",
      "Amritsar          21\n",
      "Guwahati          21\n",
      "Name: count, dtype: int64\n"
     ]
    }
   ],
   "source": [
    "print(\"\\nTop Cities with the Most Restaurants:\")\n",
    "print(df[\"City\"].value_counts().head(10))"
   ]
  },
  {
   "cell_type": "code",
   "execution_count": 57,
   "id": "9588727d-868f-465e-945b-b0f8fc1a421d",
   "metadata": {},
   "outputs": [
    {
     "name": "stdout",
     "output_type": "stream",
     "text": [
      "\n",
      "Top Cuisines:\n",
      "Cuisines\n",
      "North Indian                      936\n",
      "North Indian, Chinese             511\n",
      "Fast Food                         354\n",
      "Chinese                           354\n",
      "North Indian, Mughlai             334\n",
      "Cafe                              299\n",
      "Bakery                            218\n",
      "North Indian, Mughlai, Chinese    197\n",
      "Bakery, Desserts                  170\n",
      "Street Food                       149\n",
      "Name: count, dtype: int64\n"
     ]
    }
   ],
   "source": [
    "print(\"\\nTop Cuisines:\")\n",
    "print(df[\"Cuisines\"].value_counts().head(10))"
   ]
  },
  {
   "cell_type": "code",
   "execution_count": 61,
   "id": "f83c6b98-d88f-4ff8-887a-8d62e81b4045",
   "metadata": {},
   "outputs": [
    {
     "data": {
      "image/png": "[encoded data removed]",
      "text/plain": [
       "<Figure size 1200x600 with 1 Axes>"
      ]
     },
     "metadata": {},
     "output_type": "display_data"
    }
   ],
   "source": [
    "plt.figure(figsize=(12,6)) \n",
    "sns.histplot(df[\"Aggregate rating\"], bins=20, kde=True, color='blue') \n",
    "plt.xlabel(\"Aggregate Rating\")\n",
    "plt.ylabel(\"Frequency\")\n",
    "plt.title(\"Distribution of Aggregate Ratings\") \n",
    "plt.show()"
   ]
  },
  {
   "cell_type": "code",
   "execution_count": 62,
   "id": "2a1ea336-6d74-4dd1-876f-77042351406a",
   "metadata": {},
   "outputs": [
    {
     "name": "stderr",
     "output_type": "stream",
     "text": [
      "C:\\Users\\Akhil\\AppData\\Local\\Temp\\ipykernel_6516\\3784426503.py:2: FutureWarning: \n",
      "\n",
      "Passing `palette` without assigning `hue` is deprecated and will be removed in v0.14.0. Assign the `x` variable to `hue` and set `legend=False` for the same effect.\n",
      "\n",
      "  sns.countplot(x=\"Aggregate rating\", data=df, palette=\"coolwarm\", order=sorted(df[\"Aggregate rating\"].unique()))\n"
     ]
    },
    {
     "data": {
      "image/png": "[encoded data removed]",
      "text/plain": [
       "<Figure size 1200x600 with 1 Axes>"
      ]
     },
     "metadata": {},
     "output_type": "display_data"
    }
   ],
   "source": [
    "plt.figure(figsize=(12,6)) \n",
    "sns.countplot(x=\"Aggregate rating\", data=df, palette=\"coolwarm\", order=sorted(df[\"Aggregate rating\"].unique()))\n",
    "plt.ylabel(\"Count\")\n",
    "plt.title(\"Aggregate Rating Counts\")\n",
    "plt.xticks(rotation=45)\n",
    "plt.show() "
   ]
  },
  {
   "cell_type": "markdown",
   "id": "e38bf3fa-8f83-457a-8b1b-07d29dd4d476",
   "metadata": {},
   "source": [
    "# Task 3[Geospatial Analysis]"
   ]
  },
  {
   "cell_type": "code",
   "execution_count": 68,
   "id": "e8e53386-5162-4818-b52d-720687bf9a68",
   "metadata": {},
   "outputs": [],
   "source": [
    "import pandas as pd\n",
    "import matplotlib.pyplot as plt\n",
    "import seaborn as sns"
   ]
  },
  {
   "cell_type": "code",
   "execution_count": 70,
   "id": "24b7685a-0a05-4d70-8558-4849bc81b8a4",
   "metadata": {},
   "outputs": [
    {
     "name": "stdout",
     "output_type": "stream",
     "text": [
      "Requirement already satisfied: geopandas in c:\\users\\akhil\\anaconda3\\lib\\site-packages (1.0.1)\n",
      "Requirement already satisfied: numpy>=1.22 in c:\\users\\akhil\\appdata\\roaming\\python\\python312\\site-packages (from geopandas) (2.0.1)\n",
      "Requirement already satisfied: pyogrio>=0.7.2 in c:\\users\\akhil\\anaconda3\\lib\\site-packages (from geopandas) (0.10.0)\n",
      "Requirement already satisfied: packaging in c:\\users\\akhil\\appdata\\roaming\\python\\python312\\site-packages (from geopandas) (24.1)\n",
      "Requirement already satisfied: pandas>=1.4.0 in c:\\users\\akhil\\appdata\\roaming\\python\\python312\\site-packages (from geopandas) (2.2.3)\n",
      "Requirement already satisfied: pyproj>=3.3.0 in c:\\users\\akhil\\anaconda3\\lib\\site-packages (from geopandas) (3.7.1)\n",
      "Requirement already satisfied: shapely>=2.0.0 in c:\\users\\akhil\\anaconda3\\lib\\site-packages (from geopandas) (2.0.7)\n",
      "Requirement already satisfied: python-dateutil>=2.8.2 in c:\\users\\akhil\\appdata\\roaming\\python\\python312\\site-packages (from pandas>=1.4.0->geopandas) (2.9.0.post0)\n",
      "Requirement already satisfied: pytz>=2020.1 in c:\\users\\akhil\\appdata\\roaming\\python\\python312\\site-packages (from pandas>=1.4.0->geopandas) (2025.1)\n",
      "Requirement already satisfied: tzdata>=2022.7 in c:\\users\\akhil\\appdata\\roaming\\python\\python312\\site-packages (from pandas>=1.4.0->geopandas) (2025.1)\n",
      "Requirement already satisfied: certifi in c:\\users\\akhil\\appdata\\roaming\\python\\python312\\site-packages (from pyogrio>=0.7.2->geopandas) (2024.8.30)\n",
      "Requirement already satisfied: six>=1.5 in c:\\users\\akhil\\appdata\\roaming\\python\\python312\\site-packages (from python-dateutil>=2.8.2->pandas>=1.4.0->geopandas) (1.16.0)\n",
      "Note: you may need to restart the kernel to use updated packages.\n"
     ]
    },
    {
     "name": "stderr",
     "output_type": "stream",
     "text": [
      "\n",
      "[notice] A new release of pip is available: 24.3.1 -> 25.0.1\n",
      "[notice] To update, run: C:\\Users\\Akhil\\anaconda3\\python.exe -m pip install --upgrade pip\n"
     ]
    }
   ],
   "source": [
    "pip install geopandas "
   ]
  },
  {
   "cell_type": "code",
   "execution_count": 71,
   "id": "33f23093-f36f-4f68-a49c-63c10b0fdd37",
   "metadata": {},
   "outputs": [
    {
     "name": "stdout",
     "output_type": "stream",
     "text": [
      "Requirement already satisfied: folium in c:\\users\\akhil\\anaconda3\\lib\\site-packages (0.19.5)\n",
      "Requirement already satisfied: branca>=0.6.0 in c:\\users\\akhil\\anaconda3\\lib\\site-packages (from folium) (0.8.1)\n",
      "Requirement already satisfied: jinja2>=2.9 in c:\\users\\akhil\\appdata\\roaming\\python\\python312\\site-packages (from folium) (3.1.4)\n",
      "Requirement already satisfied: numpy in c:\\users\\akhil\\appdata\\roaming\\python\\python312\\site-packages (from folium) (2.0.1)\n",
      "Requirement already satisfied: requests in c:\\users\\akhil\\appdata\\roaming\\python\\python312\\site-packages (from folium) (2.32.3)\n",
      "Requirement already satisfied: xyzservices in c:\\users\\akhil\\anaconda3\\lib\\site-packages (from folium) (2022.9.0)\n",
      "Requirement already satisfied: MarkupSafe>=2.0 in c:\\users\\akhil\\appdata\\roaming\\python\\python312\\site-packages (from jinja2>=2.9->folium) (2.1.5)\n",
      "Requirement already satisfied: charset-normalizer<4,>=2 in c:\\users\\akhil\\appdata\\roaming\\python\\python312\\site-packages (from requests->folium) (3.3.2)\n",
      "Requirement already satisfied: idna<4,>=2.5 in c:\\users\\akhil\\appdata\\roaming\\python\\python312\\site-packages (from requests->folium) (3.10)\n",
      "Requirement already satisfied: urllib3<3,>=1.21.1 in c:\\users\\akhil\\appdata\\roaming\\python\\python312\\site-packages (from requests->folium) (2.2.3)\n",
      "Requirement already satisfied: certifi>=2017.4.17 in c:\\users\\akhil\\appdata\\roaming\\python\\python312\\site-packages (from requests->folium) (2024.8.30)\n",
      "Note: you may need to restart the kernel to use updated packages.\n"
     ]
    },
    {
     "name": "stderr",
     "output_type": "stream",
     "text": [
      "\n",
      "[notice] A new release of pip is available: 24.3.1 -> 25.0.1\n",
      "[notice] To update, run: C:\\Users\\Akhil\\anaconda3\\python.exe -m pip install --upgrade pip\n"
     ]
    }
   ],
   "source": [
    "pip install folium"
   ]
  },
  {
   "cell_type": "code",
   "execution_count": 72,
   "id": "c4c29c14-ef59-4e08-81f9-c60049e70767",
   "metadata": {},
   "outputs": [],
   "source": [
    "import geopandas as gpd\n",
    "import folium\n",
    "from folium.plugins import HeatMap"
   ]
  },
  {
   "cell_type": "code",
   "execution_count": 73,
   "id": "8d4b80f4-81c1-4d22-bd4c-5f5424245c77",
   "metadata": {},
   "outputs": [],
   "source": [
    "df = pd.read_csv(\"Dataset24.csv\")"
   ]
  },
  {
   "cell_type": "markdown",
   "id": "103c8e5e-8fef-49b2-a0ab-0e77a63e93af",
   "metadata": {},
   "source": [
    "# Droping missing latitude and longitude"
   ]
  },
  {
   "cell_type": "code",
   "execution_count": 74,
   "id": "8fef2f9d-0fee-4640-b53a-f85001718339",
   "metadata": {},
   "outputs": [],
   "source": [
    "df = df.dropna(subset=[\"Latitude\", \"Longitude\"])"
   ]
  },
  {
   "cell_type": "code",
   "execution_count": 75,
   "id": "8852f742-633d-480e-a0a3-5e281c618281",
   "metadata": {},
   "outputs": [],
   "source": [
    "map_center = [df[\"Latitude\"].mean(), df[\"Longitude\"].mean()]\n",
    "restaurant_map = folium.Map(location=map_center, zoom_start=3)"
   ]
  },
  {
   "cell_type": "code",
   "execution_count": 79,
   "id": "aa3859c3-bb0d-4b8e-9fad-9f04b5bcacd0",
   "metadata": {},
   "outputs": [],
   "source": [
    "for _, row in df.iterrows():\n",
    "    folium.CircleMarker (location=[row[\"Latitude\"], row[\"Longitude\"]],radius=3, color=\"blue\",fill=True,fill_color=\"blue\", fill_opacity=0.6,).add_to(restaurant_map)"
   ]
  },
  {
   "cell_type": "markdown",
   "id": "8fe2b702-a8c2-453e-a20e-aa2e0837ca3f",
   "metadata": {},
   "source": [
    "# Displaying the Map"
   ]
  },
  {
   "cell_type": "code",
   "execution_count": 80,
   "id": "2124176b-e281-408f-80ea-99de93730333",
   "metadata": {},
   "outputs": [],
   "source": [
    "restaurant_map.save(\"restaurant_locations.html\")"
   ]
  },
  {
   "cell_type": "code",
   "execution_count": 81,
   "id": "acb87536-216e-49e1-8fe6-7a58e1fae3f7",
   "metadata": {},
   "outputs": [
    {
     "name": "stderr",
     "output_type": "stream",
     "text": [
      "C:\\Users\\Akhil\\AppData\\Local\\Temp\\ipykernel_6516\\3980628297.py:3: FutureWarning: \n",
      "\n",
      "Passing `palette` without assigning `hue` is deprecated and will be removed in v0.14.0. Assign the `x` variable to `hue` and set `legend=False` for the same effect.\n",
      "\n",
      "  sns.barplot(x=top_cities.index, y=top_cities.values, palette=\"viridis\")\n"
     ]
    },
    {
     "data": {
      "image/png": "[encoded data removed]",
      "text/plain": [
       "<Figure size 1200x600 with 1 Axes>"
      ]
     },
     "metadata": {},
     "output_type": "display_data"
    }
   ],
   "source": [
    "plt.figure(figsize=(12,6))\n",
    "top_cities = df[\"City\"].value_counts().head(10)\n",
    "sns.barplot(x=top_cities.index, y=top_cities.values, palette=\"viridis\")\n",
    "plt.xticks(rotation=45)\n",
    "plt.xlabel(\"City\")\n",
    "plt.ylabel(\"Number of Restaurants\")\n",
    "plt.title(\"Top 10 Cities with Most Restaurants\")\n",
    "plt.show()"
   ]
  },
  {
   "cell_type": "code",
   "execution_count": 82,
   "id": "bf3bd297-a92a-4db3-8046-c8612e4c3368",
   "metadata": {},
   "outputs": [
    {
     "data": {
      "image/png": "[encoded data removed]",
      "text/plain": [
       "<Figure size 1000x600 with 1 Axes>"
      ]
     },
     "metadata": {},
     "output_type": "display_data"
    }
   ],
   "source": [
    "plt.figure(figsize=(10,6))\n",
    "sns.scatterplot(x=df[\"Longitude\"], y=df[\"Latitude\"], hue=df[\"Aggregate rating\"], palette=\"coolwarm\", alpha=0.6)\n",
    "plt.xlabel(\"Longitude\")\n",
    "plt.ylabel(\"Latitude\")\n",
    "plt.title(\"Restaurant Locations Colored by Rating\")\n",
    "plt.legend(title=\"Aggregate Rating\")\n",
    "plt.show()"
   ]
  },
  {
   "cell_type": "markdown",
   "id": "de815c5e-6e60-429a-a0b0-0931e14bf99c",
   "metadata": {},
   "source": [
    "# Heat Map of Restaurant Density"
   ]
  },
  {
   "cell_type": "code",
   "execution_count": 83,
   "id": "4ba27fdf-7294-4aeb-8f33-286f6a2fbdfa",
   "metadata": {},
   "outputs": [],
   "source": [
    "heat_data = df[[\"Latitude\", \"Longitude\"]].values.tolist()\n",
    "restaurant_heatmap = folium.Map(location=map_center, zoom_start=3)\n",
    "HeatMap(heat_data).add_to(restaurant_heatmap)\n",
    "restaurant_heatmap.save(\"restaurant_density_heatmap.html\")"
   ]
  },
  {
   "cell_type": "markdown",
   "id": "e32205a1-d432-4894-b878-0e36ff85ffd1",
   "metadata": {},
   "source": [
    "# LEVEL 2"
   ]
  },
  {
   "cell_type": "markdown",
   "id": "7579789a-3e44-471b-aa02-738fc1510dfb",
   "metadata": {},
   "source": [
    "# Task 1 [Table Booking & Online delivery]"
   ]
  },
  {
   "cell_type": "code",
   "execution_count": 2,
   "id": "03c5a554-727e-4cbf-b413-6cfd4c57833d",
   "metadata": {},
   "outputs": [],
   "source": [
    "import pandas as pd\n",
    "import numpy as np"
   ]
  },
  {
   "cell_type": "code",
   "execution_count": 3,
   "id": "cb4fce1a-772b-40a7-9a5f-a33cd74c9cc4",
   "metadata": {},
   "outputs": [],
   "source": [
    "df=pd.read_csv(\"Dataset24.csv\")"
   ]
  },
  {
   "cell_type": "code",
   "execution_count": 9,
   "id": "e0ba9d29-5edf-42a4-965c-9f08556814ab",
   "metadata": {},
   "outputs": [],
   "source": [
    "total_restaurants = len(df)"
   ]
  },
  {
   "cell_type": "code",
   "execution_count": 11,
   "id": "9b8db1f8-7331-4324-8ba0-d0f20117a04a",
   "metadata": {},
   "outputs": [],
   "source": [
    "table_booking_count = df['Has Table booking'].value_counts().get('Yes', 0)"
   ]
  },
  {
   "cell_type": "code",
   "execution_count": 12,
   "id": "bd819106-aae1-44c3-a004-b0bd7b96c29d",
   "metadata": {},
   "outputs": [],
   "source": [
    "online_delivery_count = df['Has Online delivery'].value_counts().get('Yes', 0)"
   ]
  },
  {
   "cell_type": "code",
   "execution_count": 13,
   "id": "bcffee32-2f01-4ede-b79a-5e609acd218a",
   "metadata": {},
   "outputs": [],
   "source": [
    "percentage_table_booking = (table_booking_count / total_restaurants) * 100\n",
    "percentage_online_delivery = (online_delivery_count / total_restaurants) * 100"
   ]
  },
  {
   "cell_type": "code",
   "execution_count": 15,
   "id": "be7c2bf0-ca71-4ebf-8389-08df46c4bc8e",
   "metadata": {},
   "outputs": [
    {
     "name": "stdout",
     "output_type": "stream",
     "text": [
      "\n",
      "Percentage of Restaurants Offering Table Booking: 12.12%\n",
      "Percentage of Restaurants Offering Online Delivery: 25.66%\n"
     ]
    }
   ],
   "source": [
    "print(f\"\\nPercentage of Restaurants Offering Table Booking: {percentage_table_booking:.2f}%\")\n",
    "print(f\"Percentage of Restaurants Offering Online Delivery: {percentage_online_delivery:.2f}%\")"
   ]
  },
  {
   "cell_type": "code",
   "execution_count": 16,
   "id": "33944525-5246-4e91-9db3-dcae7b56fcab",
   "metadata": {},
   "outputs": [],
   "source": [
    "df['Aggregate rating'] = pd.to_numeric(df['Aggregate rating'], errors='coerce')"
   ]
  },
  {
   "cell_type": "code",
   "execution_count": 19,
   "id": "de20e277-7dd6-402b-9655-2d2972228807",
   "metadata": {},
   "outputs": [],
   "source": [
    "avg_rating_with_booking = df[df['Has Table booking'] == 'Yes']['Aggregate rating'].mean()\n",
    "avg_rating_without_booking = df[df['Has Table booking'] == 'No']['Aggregate rating'].mean()"
   ]
  },
  {
   "cell_type": "code",
   "execution_count": 20,
   "id": "3336720e-e6d2-4533-a08f-853d40dc5c2e",
   "metadata": {},
   "outputs": [
    {
     "name": "stdout",
     "output_type": "stream",
     "text": [
      "\n",
      "Average Rating of Restaurants with Table Booking: 3.44\n",
      "Average Rating of Restaurants without Table Booking: 2.56\n"
     ]
    }
   ],
   "source": [
    "print(f\"\\nAverage Rating of Restaurants with Table Booking: {avg_rating_with_booking:.2f}\")\n",
    "print(f\"Average Rating of Restaurants without Table Booking: {avg_rating_without_booking:.2f}\")"
   ]
  },
  {
   "cell_type": "code",
   "execution_count": 21,
   "id": "da182892-d4dc-4be5-be92-eb4601bb64d5",
   "metadata": {},
   "outputs": [],
   "source": [
    "def categorize_price_range(cost):\n",
    "    if cost < 500:\n",
    "        return 'Low'\n",
    "    elif 500 <= cost < 1500:\n",
    "        return 'Medium'\n",
    "    else:\n",
    "        return 'High'"
   ]
  },
  {
   "cell_type": "code",
   "execution_count": 22,
   "id": "213248ec-499f-4dcd-b3f3-5fddfaf9b362",
   "metadata": {},
   "outputs": [],
   "source": [
    "df['Price Range'] = df['Average Cost for two'].apply(categorize_price_range)"
   ]
  },
  {
   "cell_type": "code",
   "execution_count": 23,
   "id": "0ce32ab3-ae4a-4f32-9d7e-9be3477a63f6",
   "metadata": {},
   "outputs": [],
   "source": [
    "online_delivery_by_price = df[df['Has Online delivery'] == 'Yes'].groupby('Price Range').size()"
   ]
  },
  {
   "cell_type": "code",
   "execution_count": 24,
   "id": "cee1a3d3-ba70-452e-94c0-b7c635b9e2b8",
   "metadata": {},
   "outputs": [],
   "source": [
    "total_by_price = df.groupby('Price Range').size()"
   ]
  },
  {
   "cell_type": "code",
   "execution_count": 25,
   "id": "a135cd9f-c8ba-4f8d-a5c4-3cb2fddb472d",
   "metadata": {},
   "outputs": [],
   "source": [
    "percentage_online_delivery_by_price = (online_delivery_by_price / total_by_price) * 100"
   ]
  },
  {
   "cell_type": "code",
   "execution_count": 26,
   "id": "c307c80f-f22f-47bb-aaec-905cdafa8316",
   "metadata": {},
   "outputs": [
    {
     "name": "stdout",
     "output_type": "stream",
     "text": [
      "\n",
      "Percentage of Restaurants Offering Online Delivery by Price Range:\n",
      "Price Range\n",
      "High      21.963824\n",
      "Low       14.147661\n",
      "Medium    42.991951\n",
      "dtype: float64\n"
     ]
    }
   ],
   "source": [
    "print(\"\\nPercentage of Restaurants Offering Online Delivery by Price Range:\")\n",
    "print(percentage_online_delivery_by_price)"
   ]
  },
  {
   "cell_type": "code",
   "execution_count": 28,
   "id": "6445777c-a9d8-4965-a330-f6fe1d68968a",
   "metadata": {},
   "outputs": [
    {
     "name": "stdout",
     "output_type": "stream",
     "text": [
      "\n",
      "Complete Analysis Results:\n",
      "               Restaurant Name  Average Cost for two Has Table booking  \\\n",
      "0             Le Petit Souffle                  1100               Yes   \n",
      "1             Izakaya Kikufuji                  1200               Yes   \n",
      "2       Heat - Edsa Shangri-La                  4000               Yes   \n",
      "3                         Ooma                  1500                No   \n",
      "4                  Sambo Kojin                  1500               Yes   \n",
      "...                        ...                   ...               ...   \n",
      "9546               Naml۱ Gurme                    80                No   \n",
      "9547              Ceviz A��ac۱                   105                No   \n",
      "9548                     Huqqa                   170                No   \n",
      "9549               A���k Kahve                   120                No   \n",
      "9550  Walter's Coffee Roastery                    55                No   \n",
      "\n",
      "     Has Online delivery  Aggregate rating Price Range  \n",
      "0                     No               4.8      Medium  \n",
      "1                     No               4.5      Medium  \n",
      "2                     No               4.4        High  \n",
      "3                     No               4.9        High  \n",
      "4                     No               4.8        High  \n",
      "...                  ...               ...         ...  \n",
      "9546                  No               4.1         Low  \n",
      "9547                  No               4.2         Low  \n",
      "9548                  No               3.7         Low  \n",
      "9549                  No               4.0         Low  \n",
      "9550                  No               4.0         Low  \n",
      "\n",
      "[9551 rows x 6 columns]\n"
     ]
    }
   ],
   "source": [
    "print(\"\\nComplete Analysis Results:\")\n",
    "print(df[['Restaurant Name', 'Average Cost for two', 'Has Table booking', 'Has Online delivery', 'Aggregate rating', 'Price Range']])"
   ]
  },
  {
   "cell_type": "markdown",
   "id": "a29c9b07-fbdf-445d-8d04-60812b32144b",
   "metadata": {},
   "source": [
    "# Task 2 [Price Range Analysis]"
   ]
  },
  {
   "cell_type": "code",
   "execution_count": 29,
   "id": "33497869-ae07-4ce2-88b2-2d7d1e61e213",
   "metadata": {},
   "outputs": [],
   "source": [
    "import pandas as pd"
   ]
  },
  {
   "cell_type": "code",
   "execution_count": 30,
   "id": "592201f6-7ffc-4af8-adf3-ec38e13c513e",
   "metadata": {},
   "outputs": [],
   "source": [
    "df=pd.read_csv(\"Dataset24.csv\")"
   ]
  },
  {
   "cell_type": "markdown",
   "id": "077c0728-a1b9-4496-aeb1-2b6ca010bf04",
   "metadata": {},
   "source": [
    "# Categorizing Price Ranges"
   ]
  },
  {
   "cell_type": "code",
   "execution_count": 37,
   "id": "36b63c12-d009-4a04-8aa8-362d2b400899",
   "metadata": {},
   "outputs": [],
   "source": [
    "df['Price Range'] = pd.cut(df['Average Cost for two'], bins=[0, 500, 1500, float('inf')], labels=['Low', 'Medium', 'High'])"
   ]
  },
  {
   "cell_type": "markdown",
   "id": "7d071f36-f1b3-4991-bc5b-5e7142794dac",
   "metadata": {},
   "source": [
    "# Common price range"
   ]
  },
  {
   "cell_type": "code",
   "execution_count": 38,
   "id": "8fa58979-da85-4726-94b2-5cf0e5deab42",
   "metadata": {},
   "outputs": [
    {
     "name": "stdout",
     "output_type": "stream",
     "text": [
      "Most Common Price Range: Low\n"
     ]
    }
   ],
   "source": [
    "most_common_price_range = df['Price Range'].mode()[0]\n",
    "print(f\"Most Common Price Range: {most_common_price_range}\")"
   ]
  },
  {
   "cell_type": "markdown",
   "id": "b98985ad-4ccc-487e-ad4e-498a567794fa",
   "metadata": {},
   "source": [
    "# Average Rating"
   ]
  },
  {
   "cell_type": "code",
   "execution_count": 39,
   "id": "dd96e6ad-3b6f-4350-acc0-a6ae7b383222",
   "metadata": {},
   "outputs": [
    {
     "name": "stdout",
     "output_type": "stream",
     "text": [
      "\n",
      "Average Rating for Each Price Range:\n",
      "Price Range\n",
      "Low       2.318147\n",
      "Medium    3.180124\n",
      "High      3.698630\n",
      "Name: Aggregate rating, dtype: float64\n"
     ]
    },
    {
     "name": "stderr",
     "output_type": "stream",
     "text": [
      "C:\\Users\\Akhil\\AppData\\Local\\Temp\\ipykernel_4252\\2133257154.py:1: FutureWarning: The default of observed=False is deprecated and will be changed to True in a future version of pandas. Pass observed=False to retain current behavior or observed=True to adopt the future default and silence this warning.\n",
      "  average_rating_by_price = df.groupby('Price Range')['Aggregate rating'].mean()\n"
     ]
    }
   ],
   "source": [
    "average_rating_by_price = df.groupby('Price Range')['Aggregate rating'].mean()\n",
    "print(\"\\nAverage Rating for Each Price Range:\")\n",
    "print(average_rating_by_price)"
   ]
  },
  {
   "cell_type": "markdown",
   "id": "04f29cb8-a444-4c58-85ee-39800ac2c7e9",
   "metadata": {},
   "source": [
    "# Identifying the highest Average"
   ]
  },
  {
   "cell_type": "code",
   "execution_count": 40,
   "id": "e980c255-7fc2-40f3-bc54-bd5cfc6387c3",
   "metadata": {},
   "outputs": [],
   "source": [
    "highest_avg_rating_price_range = average_rating_by_price.idxmax()\n",
    "highest_avg_rating_value = average_rating_by_price.max()\n",
    "color_representation = df[df['Price Range'] == highest_avg_rating_price_range]['Rating color'].mode()[0]"
   ]
  },
  {
   "cell_type": "code",
   "execution_count": 41,
   "id": "79dfc497-a14a-474a-98f7-9e13908870d4",
   "metadata": {},
   "outputs": [
    {
     "name": "stdout",
     "output_type": "stream",
     "text": [
      "\n",
      "Price Range with Highest Average Rating: High (3.70)\n",
      "Color Representing Highest Average Rating: Yellow\n"
     ]
    }
   ],
   "source": [
    "print(f\"\\nPrice Range with Highest Average Rating: {highest_avg_rating_price_range} ({highest_avg_rating_value:.2f})\")\n",
    "print(f\"Color Representing Highest Average Rating: {color_representation}\")"
   ]
  },
  {
   "cell_type": "markdown",
   "id": "f068bab2-61d1-4b57-b314-6e3c34eef585",
   "metadata": {},
   "source": [
    "# Task 3 [Feature Engineering]"
   ]
  },
  {
   "cell_type": "code",
   "execution_count": 42,
   "id": "94850744-d2ad-4849-a010-5ee1bcdf915a",
   "metadata": {},
   "outputs": [],
   "source": [
    "import pandas as pd"
   ]
  },
  {
   "cell_type": "code",
   "execution_count": 43,
   "id": "bb929f4b-e8f8-4c8e-ba11-c1637e6f79c4",
   "metadata": {},
   "outputs": [],
   "source": [
    "df=pd.read_csv(\"Dataset24.csv\")"
   ]
  },
  {
   "cell_type": "markdown",
   "id": "cbf771c9-2911-42b5-80a0-81641422fbd3",
   "metadata": {},
   "source": [
    "# Extracting features"
   ]
  },
  {
   "cell_type": "code",
   "execution_count": 44,
   "id": "a7f33cae-785a-4c54-9313-a6d268e3eab5",
   "metadata": {},
   "outputs": [],
   "source": [
    "df['Name Length'] = df['Restaurant Name'].apply(len)\n",
    "df['Address Length'] = df['Address'].apply(len) "
   ]
  },
  {
   "cell_type": "markdown",
   "id": "042f7659-a206-4a6f-b065-87e19d3327c2",
   "metadata": {},
   "source": [
    "# Encoding Variables in Category"
   ]
  },
  {
   "cell_type": "code",
   "execution_count": 45,
   "id": "79008d36-1393-4286-ac48-291a196b6384",
   "metadata": {},
   "outputs": [],
   "source": [
    "df['Has Table Booking'] = df['Has Table booking'].map({'Yes': 1, 'No': 0})\n",
    "df['Has Online Delivery'] = df['Has Online delivery'].map({'Yes': 1, 'No': 0})"
   ]
  },
  {
   "cell_type": "markdown",
   "id": "02f32ec9-33d5-41f0-83b4-c5d89299f976",
   "metadata": {},
   "source": [
    "# Displaying Updated DataFrame"
   ]
  },
  {
   "cell_type": "code",
   "execution_count": 47,
   "id": "a10f0376-bad7-4e76-ae7e-0450a83632f4",
   "metadata": {},
   "outputs": [
    {
     "name": "stdout",
     "output_type": "stream",
     "text": [
      "          Restaurant Name                                            Address  \\\n",
      "0        Le Petit Souffle  Third Floor, Century City Mall, Kalayaan Avenu...   \n",
      "1        Izakaya Kikufuji  Little Tokyo, 2277 Chino Roces Avenue, Legaspi...   \n",
      "2  Heat - Edsa Shangri-La  Edsa Shangri-La, 1 Garden Way, Ortigas, Mandal...   \n",
      "3                    Ooma  Third Floor, Mega Fashion Hall, SM Megamall, O...   \n",
      "4             Sambo Kojin  Third Floor, Mega Atrium, SM Megamall, Ortigas...   \n",
      "\n",
      "   Name Length  Address Length  Has Table Booking  Has Online Delivery  \n",
      "0           16              71                  1                    0  \n",
      "1           16              67                  1                    0  \n",
      "2           22              56                  1                    0  \n",
      "3            4              70                  0                    0  \n",
      "4           11              64                  1                    0  \n"
     ]
    }
   ],
   "source": [
    "print(df[['Restaurant Name', 'Address', 'Name Length', 'Address Length', 'Has Table Booking', 'Has Online Delivery']].head())"
   ]
  },
  {
   "cell_type": "markdown",
   "id": "71d76a0e-297b-4371-aeb4-f19bdd565a3d",
   "metadata": {},
   "source": [
    "# Level 3"
   ]
  },
  {
   "cell_type": "markdown",
   "id": "55e57ee7-f6bd-462c-a83d-2e6dfc3b09d9",
   "metadata": {},
   "source": [
    "# Task 1 [Predictive Modeling]"
   ]
  },
  {
   "cell_type": "code",
   "execution_count": 49,
   "id": "91eeba59-8806-41bb-a0dc-5c086340bba6",
   "metadata": {},
   "outputs": [],
   "source": [
    "import pandas as pd\n",
    "from sklearn.model_selection import train_test_split\n",
    "from sklearn.linear_model import LinearRegression\n",
    "from sklearn.tree import DecisionTreeRegressor\n",
    "from sklearn.ensemble import RandomForestRegressor\n",
    "from sklearn.metrics import mean_squared_error, r2_score"
   ]
  },
  {
   "cell_type": "code",
   "execution_count": 50,
   "id": "e2c80a2b-ed3c-4fd2-b663-8b8f6375b8f7",
   "metadata": {},
   "outputs": [],
   "source": [
    "df=pd.read_csv(\"Dataset24.csv\")"
   ]
  },
  {
   "cell_type": "markdown",
   "id": "3ced09d7-542d-44a8-8118-8fda1208c009",
   "metadata": {},
   "source": [
    "# Preprocessing or Encoding Categorical Variables"
   ]
  },
  {
   "cell_type": "code",
   "execution_count": 51,
   "id": "24770d24-a79e-45c3-bb42-de5f54e55a4a",
   "metadata": {},
   "outputs": [],
   "source": [
    "df['Has Table Booking'] = df['Has Table booking'].map({'Yes': 1, 'No': 0})\n",
    "df['Has Online Delivery'] = df['Has Online delivery'].map({'Yes': 1, 'No': 0})\n",
    "df['Name Length'] = df['Restaurant Name'].apply(len)\n",
    "df['Address Length'] = df['Address'].apply(len)"
   ]
  },
  {
   "cell_type": "code",
   "execution_count": 52,
   "id": "bcaa7730-bc85-4a80-988c-3b25bad7c7a5",
   "metadata": {},
   "outputs": [],
   "source": [
    "features = ['Average Cost for two', 'Has Table Booking', 'Has Online Delivery', 'Name Length', 'Address Length']\n",
    "target = 'Aggregate rating'"
   ]
  },
  {
   "cell_type": "code",
   "execution_count": 53,
   "id": "75c9b6c0-b41a-49e6-8c23-70454352f9e7",
   "metadata": {},
   "outputs": [],
   "source": [
    "df[target] = pd.to_numeric(df[target], errors='coerce')"
   ]
  },
  {
   "cell_type": "markdown",
   "id": "2c91293f-c19a-4fd8-a16d-248f0084815b",
   "metadata": {},
   "source": [
    "# Dropping rows"
   ]
  },
  {
   "cell_type": "code",
   "execution_count": 54,
   "id": "e325fc81-2619-46f3-8af3-ef38dfbd8c77",
   "metadata": {},
   "outputs": [],
   "source": [
    "df = df.dropna(subset=[target])"
   ]
  },
  {
   "cell_type": "markdown",
   "id": "38486ea6-32b3-4264-974d-782e30e71dc0",
   "metadata": {},
   "source": [
    "# Splitting the Dataset"
   ]
  },
  {
   "cell_type": "code",
   "execution_count": 57,
   "id": "2478cca2-14a8-430c-af9a-cf0cfbefe725",
   "metadata": {},
   "outputs": [],
   "source": [
    "X = df[features]\n",
    "y = df[target]\n",
    "X_train, X_test, y_train, y_test = train_test_split(X, y, test_size=0.2, random_state=42)"
   ]
  },
  {
   "cell_type": "markdown",
   "id": "f7011440-54c1-4544-9a48-2e65d6fece40",
   "metadata": {},
   "source": [
    "# Initialize Models"
   ]
  },
  {
   "cell_type": "code",
   "execution_count": 58,
   "id": "9b4467d3-105d-4686-81fe-f8f6d3055d92",
   "metadata": {},
   "outputs": [],
   "source": [
    "models = {'Linear Regression': LinearRegression(),'Decision Tree': DecisionTreeRegressor(),'Random Forest': RandomForestRegressor() }"
   ]
  },
  {
   "cell_type": "markdown",
   "id": "e94371ce-7937-4be9-8947-1ebe972fa260",
   "metadata": {},
   "source": [
    "# Training and Evaluating"
   ]
  },
  {
   "cell_type": "code",
   "execution_count": 59,
   "id": "6ba83434-d452-4181-b180-55dc3b839f32",
   "metadata": {},
   "outputs": [],
   "source": [
    "for model_name, model in models.items():\n",
    "    model.fit(X_train, y_train)\n",
    "    y_pred = model.predict(X_test)"
   ]
  },
  {
   "cell_type": "code",
   "execution_count": 60,
   "id": "f2e16958-e38f-4d43-846b-70f26c23a2fd",
   "metadata": {},
   "outputs": [],
   "source": [
    "mse = mean_squared_error(y_test, y_pred)\n",
    "r2 = r2_score(y_test, y_pred)"
   ]
  },
  {
   "cell_type": "code",
   "execution_count": 61,
   "id": "2c4866d0-e0a6-4f0a-b519-d4b87c7c5c3b",
   "metadata": {},
   "outputs": [
    {
     "name": "stdout",
     "output_type": "stream",
     "text": [
      "Random Forest:\n",
      "  Mean Squared Error: 2.03\n",
      "  R^2 Score: 0.11\n",
      "\n"
     ]
    }
   ],
   "source": [
    "print(f\"{model_name}:\")\n",
    "print(f\"  Mean Squared Error: {mse:.2f}\")\n",
    "print(f\"  R^2 Score: {r2:.2f}\\n\")"
   ]
  },
  {
   "cell_type": "markdown",
   "id": "5d4769c2-a80e-4970-8e95-a16d55d6af71",
   "metadata": {},
   "source": [
    "# Level 3"
   ]
  },
  {
   "cell_type": "markdown",
   "id": "07358a18-a049-4899-97e0-a56e9926ef48",
   "metadata": {},
   "source": [
    "# Task 2 [Customer Preference Analysis]"
   ]
  },
  {
   "cell_type": "code",
   "execution_count": 62,
   "id": "90054342-3a75-4f00-96fe-595c3a666bd1",
   "metadata": {},
   "outputs": [],
   "source": [
    "import pandas as pd\n",
    "import matplotlib.pyplot as plt"
   ]
  },
  {
   "cell_type": "code",
   "execution_count": 63,
   "id": "8d80edae-650e-47b8-867e-e29dbe7ad585",
   "metadata": {},
   "outputs": [],
   "source": [
    "df=pd.read_csv(\"Dataset24.csv\")"
   ]
  },
  {
   "cell_type": "markdown",
   "id": "be6b89a3-eeec-453c-9a83-f518574fb1d1",
   "metadata": {},
   "source": [
    "# PreProcessing"
   ]
  },
  {
   "cell_type": "code",
   "execution_count": 64,
   "id": "59f1ce7e-2c5e-4cb6-89f5-0c6a1cce9161",
   "metadata": {},
   "outputs": [],
   "source": [
    "df['Aggregate rating'] = pd.to_numeric(df['Aggregate rating'], errors='coerce')"
   ]
  },
  {
   "cell_type": "code",
   "execution_count": null,
   "id": "75384844-2c14-4bfb-85a4-385514b7f5c9",
   "metadata": {},
   "outputs": [],
   "source": [
    "# Analyzing cuisine & Ratings"
   ]
  }
 ],
 "metadata": {
  "kernelspec": {
   "display_name": "Python 3 (ipykernel)",
   "language": "python",
   "name": "python3"
  },
  "language_info": {
   "codemirror_mode": {
    "name": "ipython",
    "version": 3
   },
   "file_extension": ".py",
   "mimetype": "text/x-python",
   "name": "python",
   "nbconvert_exporter": "python",
   "pygments_lexer": "ipython3",
   "version": "3.12.4"
  }
 },
 "nbformat": 4,
 "nbformat_minor": 5
}
